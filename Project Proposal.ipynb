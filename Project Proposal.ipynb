{
 "cells": [
  {
   "cell_type": "markdown",
   "metadata": {},
   "source": [
    "## Project Proposal\n",
    "### By: Benjamin Giese & Brady Cassada\n",
    "\n",
    "#### Identify your dataset\n",
    "\n",
    "Within our project there will be two datasets, one containing National Hockey League (NHL) team statistics and a second set that has attendance data by team and year. The team data includes each team's overall performance for a single year (wins, goals, penalty minutes, etc.). We plan to combine a subset of each of thes two data sets in order to explore relationships between team performance and attendance.\n",
    "\n",
    "Team Data: We will be using the 'Teams.csv' from this dataset specifically. [Dataset]('https://www.kaggle.com/open-source-sports/professional-hockey-database#Teams.csv') \n",
    "\n",
    "Attendance Data: ESPN has public data of a Team's Home/Away/Overall attendance from 2000-Present day. This isn't already formatted as we will have to collect it all and clean it to our needs for analyzing. [One year of data]('http://www.espn.com/nhl/attendance/_/year/2019')\n",
    "\n",
    "We'll have to join these two datasets together in some way, this will be done via year and team name. Knowing the 'Teams.csv' data only goes up to 2011, and the ESPN data starts 2000 we will have completed data from the years 2000-2011. \n",
    "\n",
    "#### Objectives for analyzing your dataset\n",
    "\n",
    "Our goal is to find a relationship between and, ideally, predict attendance based on one or more of the following factors:\n",
    "* Wins\n",
    "* Average goals per game\n",
    "* Average penalty minutes\n",
    "    \n",
    "Some additional thoughts:\n",
    "* The team stats data set includes data for teams that are in leagues other than the NHL. We will only be focusing on NHL teams.\n",
    "* The first 10 rows of this table are all from 1909, look pretty lame, and are missing a lot of values. Data collection has obviously come a long way in the last 100 years so the more recent data that we will be looking at (2000-2011) is pretty much free of missing values, **this is why we used the tail function instead of head**.\n",
    "* Due to a lockout, there was no 2004-2005 NHL season."
   ]
  },
  {
   "cell_type": "code",
   "execution_count": 1,
   "metadata": {},
   "outputs": [],
   "source": [
    "# First Ten Records of Datset\n",
    "\n",
    "import pandas as pd\n",
    "#import matplotlib.pyplot as plt\n",
    "import matplotlib.pyplot as plt\n",
    "import seaborn as sns\n",
    "%matplotlib inline\n",
    "\n",
    "df = pd.read_csv('Teams.csv')\n",
    "\n",
    "df = df.drop(df[df.year < 2000].index)\n",
    "df = df.drop(df[df.lgID != \"NHL\"].index)\n",
    "df = df.drop('lgID', 1)\n",
    "\n",
    "df['year'] = df['year'].astype('category')\n",
    "df['tmID'] = df['tmID'].astype('category')\n",
    "df['confID'] = df['confID'].astype('category')\n",
    "df['divID'] = df['divID'].astype('category')\n",
    "df['playoff'] = df['playoff'].astype('category')\n",
    "df['name'] = df['name'].astype('category')\n",
    "df['rank'] = df['rank'].astype('category')\n",
    "\n",
    "df = df.drop('franchID', 1)\n",
    "\n",
    "attendance_df = pd.read_csv('attendance.csv')\n",
    "# attendance_df.info()\n",
    "\n",
    "def pull_city(full_name) :\n",
    "    if ('New York' in full_name):\n",
    "        name_split = full_name.split()\n",
    "        return \"NY \" + name_split[2]\n",
    "    elif ('New ' in full_name or 'St. ' in full_name or 'Los ' in full_name or 'San ' in full_name or 'Tampa ' in full_name):\n",
    "        name_split = full_name.split()\n",
    "        return name_split[0] + ' ' + name_split[1]\n",
    "    elif (' of ' not in full_name) :\n",
    "        return full_name.split()[0]\n",
    "    else :\n",
    "        name_split = full_name.split()\n",
    "        return name_split[len(name_split) - 1]\n",
    "\n",
    "\n",
    "\n",
    "df['name'] = df['name'].map(lambda name: pull_city(name))"
   ]
  },
  {
   "cell_type": "code",
   "execution_count": 2,
   "metadata": {},
   "outputs": [
    {
     "name": "stdout",
     "output_type": "stream",
     "text": [
      "<class 'pandas.core.frame.DataFrame'>\n",
      "Int64Index: 330 entries, 0 to 329\n",
      "Data columns (total 32 columns):\n",
      "year                       330 non-null category\n",
      "tmID                       330 non-null category\n",
      "confID                     330 non-null category\n",
      "divID                      330 non-null category\n",
      "division rank              330 non-null category\n",
      "playoff                    176 non-null category\n",
      "G                          330 non-null int64\n",
      "W                          330 non-null int64\n",
      "L                          330 non-null int64\n",
      "T                          120 non-null float64\n",
      "OTL                        330 non-null float64\n",
      "Pts                        330 non-null int64\n",
      "SoW                        210 non-null float64\n",
      "SoL                        210 non-null float64\n",
      "GF                         330 non-null int64\n",
      "GA                         330 non-null int64\n",
      "name                       330 non-null object\n",
      "PIM                        330 non-null float64\n",
      "BenchMinor                 330 non-null float64\n",
      "PPG                        330 non-null float64\n",
      "PPC                        330 non-null float64\n",
      "SHA                        330 non-null float64\n",
      "PKG                        330 non-null float64\n",
      "PKC                        330 non-null float64\n",
      "SHF                        330 non-null float64\n",
      "Attendance Rank            330 non-null category\n",
      "Home Games                 330 non-null int64\n",
      "Home Total Attendance      330 non-null int64\n",
      "Home Average Attendance    330 non-null int64\n",
      "Road Games                 330 non-null int64\n",
      "Road Average               330 non-null int64\n",
      "Average                    330 non-null int64\n",
      "dtypes: category(7), float64(12), int64(12), object(1)\n",
      "memory usage: 73.4+ KB\n",
      "<class 'pandas.core.frame.DataFrame'>\n",
      "Int64Index: 330 entries, 1189 to 1518\n",
      "Data columns (total 25 columns):\n",
      "year          330 non-null category\n",
      "tmID          330 non-null category\n",
      "confID        330 non-null category\n",
      "divID         330 non-null category\n",
      "rank          330 non-null category\n",
      "playoff       176 non-null category\n",
      "G             330 non-null int64\n",
      "W             330 non-null int64\n",
      "L             330 non-null int64\n",
      "T             120 non-null float64\n",
      "OTL           330 non-null float64\n",
      "Pts           330 non-null int64\n",
      "SoW           210 non-null float64\n",
      "SoL           210 non-null float64\n",
      "GF            330 non-null int64\n",
      "GA            330 non-null int64\n",
      "name          330 non-null object\n",
      "PIM           330 non-null float64\n",
      "BenchMinor    330 non-null float64\n",
      "PPG           330 non-null float64\n",
      "PPC           330 non-null float64\n",
      "SHA           330 non-null float64\n",
      "PKG           330 non-null float64\n",
      "PKC           330 non-null float64\n",
      "SHF           330 non-null float64\n",
      "dtypes: category(6), float64(12), int64(6), object(1)\n",
      "memory usage: 56.1+ KB\n"
     ]
    }
   ],
   "source": [
    "attendance_df = attendance_df.drop('Home Percentage', 1)\n",
    "attendance_df = attendance_df.drop('Road Percentage', 1)\n",
    "attendance_df = attendance_df.drop('Percentage', 1)\n",
    "\n",
    "# Replace Arizona with Phoenix and replace Winnipeg with Atlanta\n",
    "for index, row in attendance_df.iterrows():\n",
    "    if row['Team'] == 'Arizona':\n",
    "        attendance_df.at[index, 'Team'] = 'Phoenix'\n",
    "    elif row['Team'] == 'Winnipeg' and row['Year'] != 2011:\n",
    "        attendance_df.at[index, 'Team'] = 'Atlanta'\n",
    "\n",
    "       \n",
    "\n",
    "attendance_df['Rank'] = attendance_df['Rank'].astype('category')\n",
    "attendance_df['Team'] = attendance_df['Team'].astype('category')\n",
    "attendance_df['Year'] = attendance_df['Year'].astype('category')\n",
    "attendance_df = attendance_df.rename(columns={\"Rank\": 'Attendance Rank'}) \n",
    "\n",
    "combined_df = pd.merge(df, attendance_df,  how='right', left_on=['name','year'], right_on = ['Team','Year'])\n",
    "combined_df = combined_df.drop('Year', 1)\n",
    "combined_df = combined_df.drop('Games', 1)\n",
    "combined_df = combined_df.drop('Team', 1)\n",
    "\n",
    "combined_df = combined_df.rename(columns={\"rank\": \"division rank\"})\n",
    "\n",
    "combined_df.info()\n",
    "df.info()"
   ]
  },
  {
   "cell_type": "code",
   "execution_count": 3,
   "metadata": {},
   "outputs": [
    {
     "data": {
      "text/plain": [
       "<matplotlib.collections.PathCollection at 0x7f2bacbe5400>"
      ]
     },
     "execution_count": 3,
     "metadata": {},
     "output_type": "execute_result"
    },
    {
     "data": {
      "image/png": "[encoded data removed]",
      "text/plain": [
       "<Figure size 432x288 with 1 Axes>"
      ]
     },
     "metadata": {
      "needs_background": "light"
     },
     "output_type": "display_data"
    }
   ],
   "source": [
    "# plt.scatter(x=combined_df[\"W\"], y=combined_df[\"Home Total Attendance\"])\n",
    "plt.scatter(x=combined_df[\"PPG\"], y=combined_df[\"Home Average Attendance\"])"
   ]
  },
  {
   "cell_type": "markdown",
   "metadata": {},
   "source": [
    "#### Team Member: Brady Cassada/Ben Giese"
   ]
  },
  {
   "cell_type": "code",
   "execution_count": 4,
   "metadata": {},
   "outputs": [
    {
     "data": {
      "text/plain": [
       "<matplotlib.axes._subplots.AxesSubplot at 0x7f2bacb38908>"
      ]
     },
     "execution_count": 4,
     "metadata": {},
     "output_type": "execute_result"
    },
    {
     "data": {
      "image/png": "[encoded data removed]",
      "text/plain": [
       "<Figure size 1080x720 with 1 Axes>"
      ]
     },
     "metadata": {
      "needs_background": "light"
     },
     "output_type": "display_data"
    }
   ],
   "source": [
    "combined_df.boxplot(by=\"playoff\", column=\"Home Total Attendance\", figsize=(15,10))"
   ]
  },
  {
   "cell_type": "code",
   "execution_count": 5,
   "metadata": {
    "scrolled": false
   },
   "outputs": [
    {
     "data": {
      "text/plain": [
       "<matplotlib.axes._subplots.AxesSubplot at 0x7f2bac735e80>"
      ]
     },
     "execution_count": 5,
     "metadata": {},
     "output_type": "execute_result"
    },
    {
     "data": {
      "image/png": "[encoded data removed]",
      "text/plain": [
       "<Figure size 1080x720 with 1 Axes>"
      ]
     },
     "metadata": {
      "needs_background": "light"
     },
     "output_type": "display_data"
    }
   ],
   "source": [
    "combined_df.boxplot(by=\"division rank\", column=\"Home Total Attendance\", figsize=(15,10))"
   ]
  },
  {
   "cell_type": "code",
   "execution_count": null,
   "metadata": {
    "scrolled": false
   },
   "outputs": [],
   "source": []
  },
  {
   "cell_type": "markdown",
   "metadata": {},
   "source": [
    "# The Data Set\n",
    "* year - Denotes which season the stats are from  \n",
    "* lgID - Id of the league that the team belongs to\n",
    "    * This column was dropped because we are only focusing on one league (NHL)\n",
    "* tmID - Id that denotes which team the stats are for\n",
    "* confID - Denotes the conference that the team plays in\n",
    "    * The NHL is split into 2 conferences - Eastern Conference & Western Conference\n",
    "* divID - Id of the division that the team plays in\n",
    "* rank - The final standing of the team within their division\n",
    "* playoff - The playoff round that the team made it to\n",
    "    * CQF = Conference Quarter Final\n",
    "    * CSF = Conference Semi-Final\n",
    "    * CF = Conference Final\n",
    "    * SC = Stanley Cup\n",
    "* G - total games played\n",
    "* W - total wins\n",
    "    * Worth 2 points\n",
    "* L - total losses\n",
    "* T - total ties\n",
    "    * Ties were only possible prior to the 2005 season, the NHL then switched to an overtime syste,\n",
    "    * A tie is worth 1 point\n",
    "* OTL - overtime losses\n",
    "* Pts - total point\n",
    "* SoW - total shootout wins\n",
    "* SoL - total shootout losses\n",
    "* GF - goals for\n",
    "* GA - goals against\n",
    "* name - name of the team (city)\n",
    "* PIM - penalty minutes\n",
    "* BenchMinor - penalty minutes as a result of bench minors\n",
    "    * Bench minors include penalties such as:\n",
    "        * Too many men on the ice\n",
    "        * Unsportsmanlike conduct by the coach\n",
    "        * Delay of game\n",
    "* PPG - power play goals\n",
    "* PPC - power play chances\n",
    "* SHA - short handed goals against\n",
    "* PKG - power play goals against\n",
    "* PKC - penalty kill chances\n",
    "* SHF - shorthanded goals for\n",
    "* Attendance Rank - attendance ranking relative to all other teams in the league\n",
    "* Home Games - total home games played\n",
    "* Home Total Attendance - total attendance for all home games\n",
    "* Home Average Attendance - average attendance for home games\n",
    "* Road Games - total away games played\n",
    "* Road Average - average attendance for away games\n",
    "* Average - overall average attendance\n",
    "\n",
    "# Data preprocessing\n",
    "Luckily for us, the NHL data collection is pretty thorough and doesn't leave many missing values. However, there is one exception due to a rule change before the 2005 season. Previously, the NHL did not have any type of overtime and games could end in a tie. Starting in 2005, a 5 minute sudden-death overtime would be played in the event of a tie. If neither team scored in the 5 minutes, a shootout would then decide the game. This results in no values for overtime losses or shootout wins/losses prior to 2005. Additionally, only years prior to 2005 have values for ties.  \n",
    "Fortunately, we identified all of these statistics to be unlikely to have any real impact on a teams attendance. Because of this, we will simply not incorporate these columns into our models."
   ]
  }
 ],
 "metadata": {
  "kernelspec": {
   "display_name": "Python 3",
   "language": "python",
   "name": "python3"
  },
  "language_info": {
   "codemirror_mode": {
    "name": "ipython",
    "version": 3
   },
   "file_extension": ".py",
   "mimetype": "text/x-python",
   "name": "python",
   "nbconvert_exporter": "python",
   "pygments_lexer": "ipython3",
   "version": "3.7.3"
  }
 },
 "nbformat": 4,
 "nbformat_minor": 2
}
