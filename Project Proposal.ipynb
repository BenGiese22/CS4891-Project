{
 "cells": [
  {
   "cell_type": "markdown",
   "metadata": {},
   "source": [
    "## Project Proposal\n",
    "### By: Benjamin Giese & Brady Cassada\n",
    "\n",
    "#### Identify your dataset\n",
    "\n",
    "Within our project there will be two datasets, one containing National Hockey League (NHL) team statistics and a second set that has attendance data by team and year. The team data includes each team's overall performance for a single year (wins, goals, penalty minutes, etc.). We plan to combine a subset of each of thes two data sets in order to explore relationships between team performance and attendance.\n",
    "\n",
    "Team Data: We will be using the 'Teams.csv' from this dataset specifically. [Dataset]('https://www.kaggle.com/open-source-sports/professional-hockey-database#Teams.csv') \n",
    "\n",
    "Attendance Data: ESPN has public data of a Team's Home/Away/Overall attendance from 2000-Present day. This isn't already formatted as we will have to collect it all and clean it to our needs for analyzing. [One year of data]('http://www.espn.com/nhl/attendance/_/year/2019')\n",
    "\n",
    "We'll have to join these two datasets together in some way, this will be done via year and team name. Knowing the 'Teams.csv' data only goes up to 2011, and the ESPN data starts 2000 we will have completed data from the years 2000-2011. \n",
    "\n",
    "#### Objectives for analyzing your dataset\n",
    "\n",
    "Our goal is to find a relationship between and ideally predict attendance based on one or more of the following factors:\n",
    "* Wins\n",
    "* Average goals per game\n",
    "* Average penalty minutes\n",
    "    \n",
    "Some additional thoughts:\n",
    "* The team stats data set includes data for teams that are in leagues other than the NHL. We will only be focusing on NHL teams.\n",
    "* The first 10 rows of this table are all from 1909, look pretty lame, and are missing a lot of values. Data collection has obviously come a long way in the last 100 years so the more recent data that we will be looking at (2000-2011) is pretty much free of missing values, **this is why we used the tail function instead of head**.\n",
    "* Due to a lockout, there was no 2004-2005 NHL season."
   ]
  },
  {
   "cell_type": "code",
   "execution_count": 1,
   "metadata": {},
   "outputs": [
    {
     "name": "stdout",
     "output_type": "stream",
     "text": [
      "<class 'pandas.core.frame.DataFrame'>\n",
      "Int64Index: 330 entries, 0 to 329\n",
      "Data columns (total 34 columns):\n",
      "year                       265 non-null category\n",
      "lgID                       265 non-null category\n",
      "tmID                       265 non-null category\n",
      "confID                     265 non-null category\n",
      "divID                      265 non-null category\n",
      "rank                       265 non-null category\n",
      "playoff                    146 non-null category\n",
      "G                          265 non-null float64\n",
      "W                          265 non-null float64\n",
      "L                          265 non-null float64\n",
      "T                          96 non-null float64\n",
      "OTL                        265 non-null float64\n",
      "Pts                        265 non-null float64\n",
      "SoW                        169 non-null float64\n",
      "SoL                        169 non-null float64\n",
      "GF                         265 non-null float64\n",
      "GA                         265 non-null float64\n",
      "name                       265 non-null object\n",
      "PIM                        265 non-null float64\n",
      "BenchMinor                 265 non-null float64\n",
      "PPG                        265 non-null float64\n",
      "PPC                        265 non-null float64\n",
      "SHA                        265 non-null float64\n",
      "PKG                        265 non-null float64\n",
      "PKC                        265 non-null float64\n",
      "SHF                        265 non-null float64\n",
      "Rank                       330 non-null category\n",
      "Team                       330 non-null category\n",
      "Home Games                 330 non-null int64\n",
      "Home Total Attendance      330 non-null int64\n",
      "Home Average Attendance    330 non-null int64\n",
      "Road Games                 330 non-null int64\n",
      "Road Average               330 non-null int64\n",
      "Average                    330 non-null int64\n",
      "dtypes: category(9), float64(18), int64(6), object(1)\n",
      "memory usage: 75.6+ KB\n"
     ]
    },
    {
     "data": {
      "text/plain": [
       "<matplotlib.collections.PathCollection at 0x7f0c257928d0>"
      ]
     },
     "execution_count": 1,
     "metadata": {},
     "output_type": "execute_result"
    },
    {
     "data": {
      "image/png": "[encoded data removed]",
      "text/plain": [
       "<Figure size 432x288 with 1 Axes>"
      ]
     },
     "metadata": {
      "needs_background": "light"
     },
     "output_type": "display_data"
    }
   ],
   "source": [
    "# First Ten Records of Datset\n",
    "\n",
    "import pandas as pd\n",
    "#import matplotlib.pyplot as plt\n",
    "import matplotlib.pyplot as plt\n",
    "import seaborn as sns\n",
    "%matplotlib inline\n",
    "\n",
    "df = pd.read_csv('Teams.csv')\n",
    "\n",
    "df = df.drop(df[df.year < 2000].index)\n",
    "df = df.drop(df[df.lgID != \"NHL\"].index)\n",
    "\n",
    "df['year'] = df['year'].astype('category')\n",
    "df['lgID'] = df['lgID'].astype('category')\n",
    "df['tmID'] = df['tmID'].astype('category')\n",
    "df['confID'] = df['confID'].astype('category')\n",
    "df['divID'] = df['divID'].astype('category')\n",
    "df['playoff'] = df['playoff'].astype('category')\n",
    "df['name'] = df['name'].astype('category')\n",
    "df['rank'] = df['rank'].astype('category')\n",
    "\n",
    "df = df.drop('franchID', 1)\n",
    "\n",
    "attendance_df = pd.read_csv('attendance.csv')\n",
    "# attendance_df.info()\n",
    "\n",
    "def pull_city(full_name) :\n",
    "    if ('New ' in full_name or 'St.' in full_name or 'Los' in full_name):\n",
    "        name_split = full_name.split()\n",
    "        return name_split[0] + ' ' + name_split[1]\n",
    "    elif (' of ' not in full_name) :\n",
    "        return full_name.split()[0]\n",
    "    else :\n",
    "        name_split = full_name.split()\n",
    "        return name_split[len(name_split) - 1]\n",
    "\n",
    "\n",
    "df['name'] = df['name'].map(lambda name: pull_city(name))\n",
    "\n",
    "\n",
    "attendance_df['Rank'] = attendance_df['Rank'].astype('category')\n",
    "attendance_df['Team'] = attendance_df['Team'].astype('category')\n",
    "attendance_df['Year'] = attendance_df['Year'].astype('category')\n",
    "\n",
    "\n",
    "attendance_df = attendance_df.drop('Home Percentage', 1)\n",
    "attendance_df = attendance_df.drop('Road Percentage', 1)\n",
    "attendance_df = attendance_df.drop('Percentage', 1)\n",
    "\n",
    "combined_df = pd.merge(df, attendance_df,  how='right', left_on=['name','year'], right_on = ['Team','Year'])\n",
    "combined_df = combined_df.drop('Year', 1)\n",
    "combined_df = combined_df.drop('Games', 1)\n",
    "\n",
    "combined_df.info()\n",
    "# plt.scatter(x=combined_df[\"W\"], y=combined_df[\"Home Total Attendance\"])\n",
    "plt.scatter(x=combined_df[\"PPG\"], y=combined_df[\"Home Average Attendance\"])\n"
   ]
  },
  {
   "cell_type": "markdown",
   "metadata": {},
   "source": [
    "#### Team Member: Brady Cassada/Ben Giese"
   ]
  },
  {
   "cell_type": "code",
   "execution_count": 8,
   "metadata": {},
   "outputs": [
    {
     "data": {
      "text/plain": [
       "<matplotlib.axes._subplots.AxesSubplot at 0x7f0c2424e630>"
      ]
     },
     "execution_count": 8,
     "metadata": {},
     "output_type": "execute_result"
    },
    {
     "data": {
      "image/png": "[encoded data removed]",
      "text/plain": [
       "<Figure size 1080x720 with 1 Axes>"
      ]
     },
     "metadata": {
      "needs_background": "light"
     },
     "output_type": "display_data"
    }
   ],
   "source": [
    "combined_df.boxplot(by=\"playoff\", column=\"Home Total Attendance\", figsize=(15,10))"
   ]
  },
  {
   "cell_type": "code",
   "execution_count": null,
   "metadata": {},
   "outputs": [],
   "source": []
  }
 ],
 "metadata": {
  "kernelspec": {
   "display_name": "Python 3",
   "language": "python",
   "name": "python3"
  },
  "language_info": {
   "codemirror_mode": {
    "name": "ipython",
    "version": 3
   },
   "file_extension": ".py",
   "mimetype": "text/x-python",
   "name": "python",
   "nbconvert_exporter": "python",
   "pygments_lexer": "ipython3",
   "version": "3.7.3"
  }
 },
 "nbformat": 4,
 "nbformat_minor": 2
}
